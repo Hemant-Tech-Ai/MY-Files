{
 "cells": [
  {
   "cell_type": "code",
   "execution_count": 102,
   "metadata": {},
   "outputs": [],
   "source": [
    "# %%capture\n",
    "# %pip install \"unstructured[all-docs]\""
   ]
  },
  {
   "cell_type": "code",
   "execution_count": null,
   "metadata": {},
   "outputs": [],
   "source": [
    "from IPython.display import JSON\n",
    "\n",
    "import json\n",
    "\n",
    "from unstructured.partition.html import partition_html\n",
    "from unstructured.partition.pdf import partition_pdf\n",
    "from unstructured.staging.base import dict_to_elements, elements_to_json"
   ]
  },
  {
   "cell_type": "code",
   "execution_count": 2,
   "metadata": {},
   "outputs": [],
   "source": [
    "filename = \"budget_speech.pdf\""
   ]
  },
  {
   "cell_type": "code",
   "execution_count": 117,
   "metadata": {},
   "outputs": [],
   "source": [
    "poppler_path = r\"C:/Users/Hemant.Singhsidar/Downloads/Release-24.08.0-0/poppler-24.08.0/Library/bin\""
   ]
  },
  {
   "cell_type": "code",
   "execution_count": 3,
   "metadata": {},
   "outputs": [],
   "source": [
    "from unstructured.partition.pdf import partition_pdf\n",
    "\n",
    "elements = partition_pdf(filename=filename,\n",
    "                         infer_table_structure=True,\n",
    "                         strategy='hi_res',\n",
    "           )"
   ]
  },
  {
   "cell_type": "code",
   "execution_count": null,
   "metadata": {},
   "outputs": [],
   "source": [
    "len(elements)"
   ]
  },
  {
   "cell_type": "code",
   "execution_count": null,
   "metadata": {},
   "outputs": [],
   "source": [
    "\n",
    "element_dict = [el.to_dict() for el in elements]\n",
    "output = json.dumps(element_dict, indent=2)\n",
    "print(output)\n",
    "\n",
    "unique_types = set()\n",
    "\n",
    "for item in element_dict:\n",
    "    unique_types.add(item['type'])\n",
    "\n",
    "print(unique_types)"
   ]
  },
  {
   "cell_type": "code",
   "execution_count": null,
   "metadata": {},
   "outputs": [],
   "source": [
    "import json\n",
    "\n",
    "def get_page_and_coordinates_by_type(output_str, element_type):\n",
    "    \"\"\"\n",
    "    Filter elements by type and return their page numbers and coordinates.\n",
    "    \n",
    "    Args:\n",
    "        output_str (str): JSON string containing document elements\n",
    "        element_type (str): Type of element to filter (e.g., 'Title', 'Image', etc.)\n",
    "    \n",
    "    Returns:\n",
    "        list: List of dictionaries containing page numbers and coordinates for matched elements\n",
    "    \"\"\"\n",
    "    # Parse JSON string into Python object if it's a string\n",
    "    if isinstance(output_str, str):\n",
    "        output = json.loads(output_str)\n",
    "    else:\n",
    "        output = output_str\n",
    "        \n",
    "    filtered_data = []\n",
    "    \n",
    "    for item in output:\n",
    "        if item['type'] == element_type:\n",
    "            filtered_data.append({\n",
    "                'page_number': item['metadata']['page_number'],\n",
    "                'coordinates': item['metadata']['coordinates']['points'],\n",
    "                'text': item['text']  # Including text for reference\n",
    "            })\n",
    "    \n",
    "    # Print total count of elements found\n",
    "    print(f\"\\nTotal {element_type}s found: {len(filtered_data)}\")\n",
    "    return filtered_data\n",
    "\n",
    "# Example usage:\n",
    "# Get all Tables\n",
    "tables = get_page_and_coordinates_by_type(output, 'Table')\n",
    "for table in tables:\n",
    "    print(f\"\\nPage: {table['page_number']}\")  # Fixed variable name from 'title' to 'table'\n",
    "    print(f\"Text: {table['text']}\")\n",
    "    print(f\"Coordinates: {table['coordinates']}\")\n",
    "\n",
    "# Get all Images (uncomment to use)\n",
    "# images = get_page_and_coordinates_by_type(output, 'Image')\n",
    "# for image in images:\n",
    "#     print(f\"\\nPage: {image['page_number']}\")\n",
    "#     print(f\"Coordinates: {image['coordinates']}\")"
   ]
  },
  {
   "cell_type": "code",
   "execution_count": null,
   "metadata": {},
   "outputs": [],
   "source": [
    "tables = [el for el in elements if el.category == \"Table\"]\n",
    "\n",
    "print(tables[0].text)\n",
    "print(tables[0].metadata.text_as_html)"
   ]
  },
  {
   "cell_type": "code",
   "execution_count": null,
   "metadata": {},
   "outputs": [],
   "source": [
    "tables"
   ]
  },
  {
   "cell_type": "code",
   "execution_count": null,
   "metadata": {},
   "outputs": [],
   "source": [
    "len(tables)"
   ]
  },
  {
   "cell_type": "code",
   "execution_count": null,
   "metadata": {},
   "outputs": [],
   "source": [
    "tables[0].text"
   ]
  },
  {
   "cell_type": "code",
   "execution_count": null,
   "metadata": {},
   "outputs": [],
   "source": [
    "tables[0].metadata"
   ]
  },
  {
   "cell_type": "markdown",
   "metadata": {},
   "source": [
    "### Now, comes the most interesting part ( utilizing the extracted data in most efficient way)"
   ]
  },
  {
   "cell_type": "markdown",
   "metadata": {},
   "source": [
    "- It's helpful to have an HTML representation of the table so that you can the information to an LLM while maintaining the table structure."
   ]
  },
  {
   "cell_type": "code",
   "execution_count": 24,
   "metadata": {},
   "outputs": [],
   "source": [
    "table_html = tables[0].metadata.text_as_html"
   ]
  },
  {
   "cell_type": "code",
   "execution_count": null,
   "metadata": {},
   "outputs": [],
   "source": [
    "table_html"
   ]
  },
  {
   "cell_type": "code",
   "execution_count": 128,
   "metadata": {},
   "outputs": [],
   "source": [
    "# # view what the HTML in the metadata field looks like\n",
    "\n",
    "# from io import StringIO \n",
    "# from lxml import etree\n",
    "\n",
    "# parser = etree.XMLParser(remove_blank_text=True)\n",
    "# file_obj = StringIO(table_html)\n",
    "# tree = etree.parse(file_obj, parser)\n",
    "# print(etree.tostring(tree, pretty_print=True).decode())"
   ]
  },
  {
   "cell_type": "code",
   "execution_count": 129,
   "metadata": {},
   "outputs": [],
   "source": [
    "# # let's display this table\n",
    "\n",
    "# from IPython.core.display import HTML\n",
    "# HTML(table_html)"
   ]
  },
  {
   "cell_type": "markdown",
   "metadata": {},
   "source": [
    "#### Convert to pandas df"
   ]
  },
  {
   "cell_type": "code",
   "execution_count": 136,
   "metadata": {},
   "outputs": [],
   "source": [
    "# %pip install pandas"
   ]
  },
  {
   "cell_type": "code",
   "execution_count": null,
   "metadata": {},
   "outputs": [],
   "source": [
    "import pandas as pd\n",
    "\n",
    "# Convert HTML table to pandas DataFrame\n",
    "dfs = pd.read_html(table_html)"
   ]
  },
  {
   "cell_type": "code",
   "execution_count": null,
   "metadata": {},
   "outputs": [],
   "source": [
    "dfs"
   ]
  },
  {
   "cell_type": "code",
   "execution_count": null,
   "metadata": {},
   "outputs": [],
   "source": [
    "\n",
    "# Assuming there's only one table, get the DataFrame\n",
    "df = dfs[0]\n",
    "\n",
    "# Now you have the DataFrame\n",
    "print(df)\n"
   ]
  },
  {
   "cell_type": "code",
   "execution_count": null,
   "metadata": {},
   "outputs": [],
   "source": [
    "df.shape"
   ]
  },
  {
   "cell_type": "code",
   "execution_count": null,
   "metadata": {},
   "outputs": [],
   "source": [
    "df.head()"
   ]
  },
  {
   "cell_type": "code",
   "execution_count": 38,
   "metadata": {},
   "outputs": [
    {
     "name": "stdout",
     "output_type": "stream",
     "text": [
      "Text extracted and saved to: RESULTS\\PAGE_TEXT\\PDF1-texts\\page_1_text.txt\n",
      "Text extracted and saved to: RESULTS\\PAGE_TEXT\\PDF1-texts\\page_1_text.txt\n",
      "Text extracted and saved to: RESULTS\\PAGE_TEXT\\PDF1-texts\\page_1_text.txt\n",
      "Text extracted and saved to: RESULTS\\PAGE_TEXT\\PDF1-texts\\page_1_text.txt\n",
      "Text extracted and saved to: RESULTS\\PAGE_TEXT\\PDF1-texts\\page_1_text.txt\n",
      "Text extracted and saved to: RESULTS\\PAGE_TEXT\\PDF1-texts\\page_1_text.txt\n",
      "Text extracted and saved to: RESULTS\\PAGE_TEXT\\PDF1-texts\\page_1_text.txt\n",
      "Text extracted and saved to: RESULTS\\PAGE_TEXT\\PDF1-texts\\page_1_text.txt\n",
      "Text extracted and saved to: RESULTS\\PAGE_TEXT\\PDF1-texts\\page_1_text.txt\n",
      "Text extracted and saved to: RESULTS\\PAGE_TEXT\\PDF1-texts\\page_1_text.txt\n",
      "Text extracted and saved to: RESULTS\\PAGE_TEXT\\PDF1-texts\\page_1_text.txt\n",
      "Text extracted and saved to: RESULTS\\PAGE_TEXT\\PDF1-texts\\page_1_text.txt\n",
      "Text extracted and saved to: RESULTS\\PAGE_TEXT\\PDF1-texts\\page_1_text.txt\n",
      "Text extracted and saved to: RESULTS\\PAGE_TEXT\\PDF1-texts\\page_1_text.txt\n",
      "Text extracted and saved to: RESULTS\\PAGE_TEXT\\PDF1-texts\\page_1_text.txt\n",
      "Text extracted and saved to: RESULTS\\PAGE_TEXT\\PDF1-texts\\page_1_text.txt\n",
      "Text extracted and saved to: RESULTS\\PAGE_TEXT\\PDF1-texts\\page_2_text.txt\n",
      "Text extracted and saved to: RESULTS\\PAGE_TEXT\\PDF1-texts\\page_2_text.txt\n",
      "Text extracted and saved to: RESULTS\\PAGE_TEXT\\PDF1-texts\\page_2_text.txt\n",
      "Text extracted and saved to: RESULTS\\PAGE_TEXT\\PDF1-texts\\page_3_text.txt\n",
      "Text extracted and saved to: RESULTS\\PAGE_TEXT\\PDF1-texts\\page_3_text.txt\n",
      "Text extracted and saved to: RESULTS\\PAGE_TEXT\\PDF1-texts\\page_3_text.txt\n",
      "Text extracted and saved to: RESULTS\\PAGE_TEXT\\PDF1-texts\\page_3_text.txt\n",
      "Text extracted and saved to: RESULTS\\PAGE_TEXT\\PDF1-texts\\page_3_text.txt\n",
      "Text extracted and saved to: RESULTS\\PAGE_TEXT\\PDF1-texts\\page_3_text.txt\n",
      "Text extracted and saved to: RESULTS\\PAGE_TEXT\\PDF1-texts\\page_3_text.txt\n",
      "Text extracted and saved to: RESULTS\\PAGE_TEXT\\PDF1-texts\\page_3_text.txt\n",
      "Text extracted and saved to: RESULTS\\PAGE_TEXT\\PDF1-texts\\page_3_text.txt\n",
      "Text extracted and saved to: RESULTS\\PAGE_TEXT\\PDF1-texts\\page_3_text.txt\n",
      "Text extracted and saved to: RESULTS\\PAGE_TEXT\\PDF1-texts\\page_3_text.txt\n",
      "Text extracted and saved to: RESULTS\\PAGE_TEXT\\PDF1-texts\\page_3_text.txt\n",
      "Text extracted and saved to: RESULTS\\PAGE_TEXT\\PDF1-texts\\page_3_text.txt\n",
      "Text extracted and saved to: RESULTS\\PAGE_TEXT\\PDF1-texts\\page_3_text.txt\n",
      "Text extracted and saved to: RESULTS\\PAGE_TEXT\\PDF1-texts\\page_4_text.txt\n",
      "Text extracted and saved to: RESULTS\\PAGE_TEXT\\PDF1-texts\\page_4_text.txt\n",
      "Text extracted and saved to: RESULTS\\PAGE_TEXT\\PDF1-texts\\page_4_text.txt\n",
      "Text extracted and saved to: RESULTS\\PAGE_TEXT\\PDF1-texts\\page_4_text.txt\n",
      "Text extracted and saved to: RESULTS\\PAGE_TEXT\\PDF1-texts\\page_4_text.txt\n",
      "Text extracted and saved to: RESULTS\\PAGE_TEXT\\PDF1-texts\\page_5_text.txt\n",
      "Text extracted and saved to: RESULTS\\PAGE_TEXT\\PDF1-texts\\page_5_text.txt\n",
      "Text extracted and saved to: RESULTS\\PAGE_TEXT\\PDF1-texts\\page_5_text.txt\n",
      "Text extracted and saved to: RESULTS\\PAGE_TEXT\\PDF1-texts\\page_5_text.txt\n",
      "Text extracted and saved to: RESULTS\\PAGE_TEXT\\PDF1-texts\\page_5_text.txt\n",
      "Text extracted and saved to: RESULTS\\PAGE_TEXT\\PDF1-texts\\page_6_text.txt\n",
      "Text extracted and saved to: RESULTS\\PAGE_TEXT\\PDF1-texts\\page_6_text.txt\n",
      "Text extracted and saved to: RESULTS\\PAGE_TEXT\\PDF1-texts\\page_6_text.txt\n",
      "Text extracted and saved to: RESULTS\\PAGE_TEXT\\PDF1-texts\\page_6_text.txt\n",
      "Text extracted and saved to: RESULTS\\PAGE_TEXT\\PDF1-texts\\page_7_text.txt\n",
      "Text extracted and saved to: RESULTS\\PAGE_TEXT\\PDF1-texts\\page_7_text.txt\n",
      "Text extracted and saved to: RESULTS\\PAGE_TEXT\\PDF1-texts\\page_7_text.txt\n",
      "Text extracted and saved to: RESULTS\\PAGE_TEXT\\PDF1-texts\\page_7_text.txt\n",
      "Text extracted and saved to: RESULTS\\PAGE_TEXT\\PDF1-texts\\page_7_text.txt\n",
      "Text extracted and saved to: RESULTS\\PAGE_TEXT\\PDF1-texts\\page_7_text.txt\n",
      "\n",
      "All images processed successfully! Text saved in 'RESULTS\\PAGE_TEXT\\PDF1-texts'.\n"
     ]
    }
   ],
   "source": [
    "import os\n",
    "import json\n",
    "from unstructured.partition.image import partition_image\n",
    "\n",
    "def extract_text_from_images(input_folder, pdf_name):\n",
    "    # Define the output directory\n",
    "    text_output_folder = os.path.join(\"RESULTS\", \"PAGE_TEXT\", f\"{pdf_name}-texts\")\n",
    "\n",
    "    # Ensure the output folder exists\n",
    "    os.makedirs(text_output_folder, exist_ok=True)\n",
    "\n",
    "    # Get all image files in the input folder\n",
    "    image_files = [f for f in os.listdir(input_folder) if f.lower().endswith(('.png', '.jpg', '.jpeg'))]\n",
    "\n",
    "    # Process each image file\n",
    "    for image_file in image_files:\n",
    "        image_path = os.path.join(input_folder, image_file)\n",
    "\n",
    "        # Define `image_name` at the start of the loop\n",
    "        image_name = os.path.splitext(image_file)[0]\n",
    "\n",
    "        # Perform table detection using Unstructured's partition_image\n",
    "        elements = partition_image(filename=image_path, infer_table_structure=True, strategy='hi_res')\n",
    "\n",
    "        # Convert elements to JSON structure\n",
    "        element_dict = [el.to_dict() for el in elements]\n",
    "\n",
    "        # Extract text if type is not \"Table\"\n",
    "        for item in element_dict:\n",
    "            if isinstance(item, dict) and item.get(\"type\") != \"Table\":\n",
    "                text_content = item.get(\"text\", \"\")\n",
    "                if text_content:\n",
    "                    text_filename = f\"{image_name}_text.txt\"\n",
    "                    text_output_path = os.path.join(text_output_folder, text_filename)\n",
    "                    with open(text_output_path, \"a\", encoding=\"utf-8\") as text_file:\n",
    "                        text_file.write(text_content + \"\\n\")\n",
    "                    print(f\"Text extracted and saved to: {text_output_path}\")\n",
    "\n",
    "    print(f\"\\nAll images processed successfully! Text saved in '{text_output_folder}'.\")\n",
    "\n",
    "# Example usage\n",
    "input_folder = \"Pdf1 Pages\"\n",
    "pdf_name = \"PDF1\"\n",
    "extract_text_from_images(input_folder, pdf_name)"
   ]
  }
 ],
 "metadata": {
  "kernelspec": {
   "display_name": ".env",
   "language": "python",
   "name": "python3"
  },
  "language_info": {
   "codemirror_mode": {
    "name": "ipython",
    "version": 3
   },
   "file_extension": ".py",
   "mimetype": "text/x-python",
   "name": "python",
   "nbconvert_exporter": "python",
   "pygments_lexer": "ipython3",
   "version": "3.10.10"
  }
 },
 "nbformat": 4,
 "nbformat_minor": 2
}
