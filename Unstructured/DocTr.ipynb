{
 "cells": [
  {
   "cell_type": "code",
   "execution_count": null,
   "metadata": {},
   "outputs": [],
   "source": [
    "%pip uninstall -y tensorflow\n",
    "%pip install python-doctr[torch,viz]"
   ]
  },
  {
   "cell_type": "code",
   "execution_count": 2,
   "metadata": {},
   "outputs": [
    {
     "name": "stderr",
     "output_type": "stream",
     "text": [
      "c:\\Users\\Hemant.Singhsidar\\Desktop\\Assignments\\DATP\\PDF Extraction\\Unstructured\\envT\\lib\\site-packages\\tqdm\\auto.py:21: TqdmWarning: IProgress not found. Please update jupyter and ipywidgets. See https://ipywidgets.readthedocs.io/en/stable/user_install.html\n",
      "  from .autonotebook import tqdm as notebook_tqdm\n"
     ]
    }
   ],
   "source": [
    "from doctr.io import DocumentFile\n",
    "from doctr.models import ocr_predictor"
   ]
  },
  {
   "cell_type": "code",
   "execution_count": 3,
   "metadata": {},
   "outputs": [
    {
     "name": "stdout",
     "output_type": "stream",
     "text": [
      "Number of pages: 1\n"
     ]
    }
   ],
   "source": [
    "# Download a sample\n",
    "#!wget https://eforms.com/download/2019/01/Cash-Payment-Receipt-Template.pdf\n",
    "# Read the file\n",
    "doc = DocumentFile.from_images(\"Cropped Tables\\Page 1_Table 1.png\")\n",
    "print(f\"Number of pages: {len(doc)}\")"
   ]
  },
  {
   "cell_type": "code",
   "execution_count": 4,
   "metadata": {},
   "outputs": [],
   "source": [
    "predictor = ocr_predictor(pretrained=True)"
   ]
  },
  {
   "cell_type": "code",
   "execution_count": 5,
   "metadata": {},
   "outputs": [],
   "source": [
    "result = predictor(doc)"
   ]
  },
  {
   "cell_type": "code",
   "execution_count": 6,
   "metadata": {},
   "outputs": [
    {
     "data": {
      "image/png": "[encoded data removed]",
      "text/plain": [
       "<Figure size 1000x78.7149 with 1 Axes>"
      ]
     },
     "metadata": {},
     "output_type": "display_data"
    }
   ],
   "source": [
    "result.show()"
   ]
  },
  {
   "cell_type": "code",
   "execution_count": null,
   "metadata": {},
   "outputs": [],
   "source": [
    "result"
   ]
  },
  {
   "cell_type": "code",
   "execution_count": 9,
   "metadata": {},
   "outputs": [
    {
     "data": {
      "text/plain": [
       "'3\\nMargin money for working capital\\n1.00\\nTotal\\n12.00'"
      ]
     },
     "execution_count": 9,
     "metadata": {},
     "output_type": "execute_result"
    }
   ],
   "source": [
    "result.render()"
   ]
  },
  {
   "cell_type": "code",
   "execution_count": 10,
   "metadata": {},
   "outputs": [],
   "source": [
    "import pandas as pd\n",
    "df = pd.DataFrame([result.__dict__])  # Convert the object's attributes to a dictionary"
   ]
  },
  {
   "cell_type": "code",
   "execution_count": 11,
   "metadata": {},
   "outputs": [
    {
     "name": "stdout",
     "output_type": "stream",
     "text": [
      "{'pages': [{'page_idx': 0, 'dimensions': (98, 1245), 'orientation': {'value': None, 'confidence': None}, 'language': {'value': None, 'confidence': None}, 'blocks': [{'geometry': ((0.01953125, 0.14021643813775508), (0.9833984375, 0.8473772321428572)), 'objectness_score': 0.8218172589937845, 'lines': [{'geometry': ((0.01953125, 0.14021643813775508), (0.03515625, 0.42556202168367346)), 'objectness_score': 0.7646592259407043, 'words': [{'value': '3', 'confidence': 0.999855637550354, 'geometry': ((0.01953125, 0.14021643813775508), (0.03515625, 0.42556202168367346)), 'objectness_score': 0.7646592259407043, 'crop_orientation': {'value': 0, 'confidence': None}}]}, {'geometry': ((0.1123046875, 0.15262276785714285), (0.4833984375, 0.48759367028061223)), 'objectness_score': 0.8195693731307984, 'words': [{'value': 'Margin', 'confidence': 0.8865423202514648, 'geometry': ((0.1123046875, 0.15262276785714285), (0.1923828125, 0.48759367028061223)), 'objectness_score': 0.7899243235588074, 'crop_orientation': {'value': 0, 'confidence': None}}, {'value': 'money', 'confidence': 0.9997346997261047, 'geometry': ((0.1982421875, 0.21465441645408162), (0.2724609375, 0.48759367028061223)), 'objectness_score': 0.833258867263794, 'crop_orientation': {'value': 0, 'confidence': None}}, {'value': 'for', 'confidence': 0.9991797804832458, 'geometry': ((0.2783203125, 0.15262276785714285), (0.310546875, 0.43796835140306123)), 'objectness_score': 0.8003076910972595, 'crop_orientation': {'value': 0, 'confidence': None}}, {'value': 'working', 'confidence': 0.997305154800415, 'geometry': ((0.3173828125, 0.16502909757653061), (0.40625, 0.48759367028061223)), 'objectness_score': 0.8379029035568237, 'crop_orientation': {'value': 0, 'confidence': None}}, {'value': 'capital', 'confidence': 0.6440062522888184, 'geometry': ((0.4111328125, 0.15262276785714285), (0.4833984375, 0.48759367028061223)), 'objectness_score': 0.8364530801773071, 'crop_orientation': {'value': 0, 'confidence': None}}]}, {'geometry': ((0.9384765625, 0.16502909757653061), (0.9833984375, 0.43796835140306123)), 'objectness_score': 0.8422728180885315, 'words': [{'value': '1.00', 'confidence': 0.9971911311149597, 'geometry': ((0.9384765625, 0.16502909757653061), (0.9833984375, 0.43796835140306123)), 'objectness_score': 0.8422728180885315, 'crop_orientation': {'value': 0, 'confidence': None}}]}, {'geometry': ((0.1123046875, 0.5620316485969388), (0.1748046875, 0.8349709024234694)), 'objectness_score': 0.8806868195533752, 'words': [{'value': 'Total', 'confidence': 0.707383394241333, 'geometry': ((0.1123046875, 0.5620316485969388), (0.1748046875, 0.8349709024234694)), 'objectness_score': 0.8806868195533752, 'crop_orientation': {'value': 0, 'confidence': None}}]}, {'geometry': ((0.9228515625, 0.5620316485969388), (0.9833984375, 0.8473772321428572)), 'objectness_score': 0.8108896017074585, 'words': [{'value': '12.00', 'confidence': 0.9304806590080261, 'geometry': ((0.9228515625, 0.5620316485969388), (0.9833984375, 0.8473772321428572)), 'objectness_score': 0.8108896017074585, 'crop_orientation': {'value': 0, 'confidence': None}}]}], 'artefacts': []}]}]}\n"
     ]
    }
   ],
   "source": [
    "json_export = result.export()\n",
    "print(json_export)"
   ]
  },
  {
   "cell_type": "code",
   "execution_count": 12,
   "metadata": {},
   "outputs": [
    {
     "name": "stdout",
     "output_type": "stream",
     "text": [
      "OCR results successfully saved to 'ocr_output.json'\n"
     ]
    }
   ],
   "source": [
    "import json\n",
    "\n",
    "# Export the result as a JSON-compatible structure (dict/list)\n",
    "json_export = result.export()\n",
    "\n",
    "# Save it to a JSON file\n",
    "with open(\"ocr_output.json\", \"w\", encoding=\"utf-8\") as f:\n",
    "    json.dump(json_export, f, ensure_ascii=False, indent=4)\n",
    "\n",
    "print(\"OCR results successfully saved to 'ocr_output.json'\")"
   ]
  },
  {
   "cell_type": "code",
   "execution_count": 13,
   "metadata": {},
   "outputs": [
    {
     "data": {
      "image/png": "[encoded data removed]",
      "text/plain": [
       "<Figure size 1000x78.7149 with 1 Axes>"
      ]
     },
     "metadata": {},
     "output_type": "display_data"
    }
   ],
   "source": [
    "page = result.pages[0].show()"
   ]
  },
  {
   "cell_type": "code",
   "execution_count": 14,
   "metadata": {},
   "outputs": [],
   "source": [
    "# string_result_page = page.render()\n",
    "# print(string_result_page)"
   ]
  },
  {
   "cell_type": "code",
   "execution_count": 15,
   "metadata": {},
   "outputs": [
    {
     "name": "stdout",
     "output_type": "stream",
     "text": [
      "3\n",
      "Margin money for working capital\n",
      "1.00\n",
      "Total\n",
      "12.00\n"
     ]
    }
   ],
   "source": [
    "string_result = result.render()\n",
    "print(string_result)"
   ]
  },
  {
   "cell_type": "code",
   "execution_count": 16,
   "metadata": {},
   "outputs": [
    {
     "name": "stdout",
     "output_type": "stream",
     "text": [
      "3\n",
      "Margin money for working capital\n",
      "1.00\n",
      "Total\n",
      "12.00\n"
     ]
    }
   ],
   "source": [
    "page_2 = result.pages[0]\n",
    "if page_2 is None:\n",
    "    print(\"Page 2 is None or does not exist!\")\n",
    "else:\n",
    "    page_data = page_2.export()  # returns a dict\n",
    "    text_lines = []\n",
    "    \n",
    "    # Each \"block\" contains \"lines\"; each \"line\" contains \"words\"\n",
    "    for block in page_data[\"blocks\"]:\n",
    "        for line in block[\"lines\"]:\n",
    "            # Join all the word values (i.e. recognized tokens)\n",
    "            line_text = \" \".join(word[\"value\"] for word in line[\"words\"])\n",
    "            text_lines.append(line_text)\n",
    "    \n",
    "    # Combine lines into one string\n",
    "    page_text = \"\\n\".join(text_lines)\n",
    "    print(page_text)\n"
   ]
  }
 ],
 "metadata": {
  "kernelspec": {
   "display_name": "envT",
   "language": "python",
   "name": "python3"
  },
  "language_info": {
   "codemirror_mode": {
    "name": "ipython",
    "version": 3
   },
   "file_extension": ".py",
   "mimetype": "text/x-python",
   "name": "python",
   "nbconvert_exporter": "python",
   "pygments_lexer": "ipython3",
   "version": "3.9.13"
  }
 },
 "nbformat": 4,
 "nbformat_minor": 2
}
