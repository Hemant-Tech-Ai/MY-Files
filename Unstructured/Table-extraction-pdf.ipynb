{
 "cells": [
  {
   "cell_type": "markdown",
   "metadata": {},
   "source": [
    "# Unstructured to extract Info from Scanned pdf\n",
    "- https://unstructured.io/\n",
    "- https://unstructured-io.github.io/unstructured/index.html\n",
    "- https://docs.unstructured.io/api-reference/api-services/python-sdk\n"
   ]
  },
  {
   "cell_type": "code",
   "execution_count": 102,
   "metadata": {},
   "outputs": [],
   "source": [
    "# %%capture\n",
    "# %pip install \"unstructured[all-docs]\""
   ]
  },
  {
   "cell_type": "code",
   "execution_count": 103,
   "metadata": {},
   "outputs": [],
   "source": [
    "# Warning control\n",
    "import warnings\n",
    "warnings.filterwarnings('ignore')"
   ]
  },
  {
   "cell_type": "code",
   "execution_count": 104,
   "metadata": {},
   "outputs": [],
   "source": [
    "from IPython.display import JSON\n",
    "\n",
    "import json\n",
    "\n",
    "from unstructured.partition.html import partition_html\n",
    "from unstructured.partition.pdf import partition_pdf\n",
    "from unstructured.staging.base import dict_to_elements, elements_to_json"
   ]
  },
  {
   "cell_type": "code",
   "execution_count": 105,
   "metadata": {},
   "outputs": [],
   "source": [
    "# %pip show unstructured"
   ]
  },
  {
   "cell_type": "code",
   "execution_count": 106,
   "metadata": {},
   "outputs": [],
   "source": [
    "# import unstructured.partition\n",
    "\n",
    "# help(unstructured.partition)\n"
   ]
  },
  {
   "cell_type": "code",
   "execution_count": 107,
   "metadata": {},
   "outputs": [],
   "source": [
    "filename = \"CaseStudies.pdf\""
   ]
  },
  {
   "cell_type": "code",
   "execution_count": 108,
   "metadata": {},
   "outputs": [],
   "source": [
    "# from unstructured.partition.pdf import partition_pdf\n",
    "\n",
    "# # Specify the path to your PDF file\n",
    "# filename = \"gpt4all.pdf\"\n",
    "\n",
    "# # Call the partition_pdf function\n",
    "# # Returns a List[Element] present in the pages of the parsed pdf document\n",
    "# elements = partition_pdf(filename)\n",
    "\n",
    "# # Now, elements is a list of all elements present in the pages of the parsed pdf document"
   ]
  },
  {
   "cell_type": "code",
   "execution_count": 109,
   "metadata": {},
   "outputs": [],
   "source": [
    "# elements"
   ]
  },
  {
   "cell_type": "code",
   "execution_count": 110,
   "metadata": {},
   "outputs": [],
   "source": [
    "# len(elements)"
   ]
  },
  {
   "cell_type": "code",
   "execution_count": 111,
   "metadata": {},
   "outputs": [],
   "source": [
    "# element_dict = [el.to_dict() for el in elements]\n",
    "# output = json.dumps(element_dict, indent=2)\n",
    "# print(output)"
   ]
  },
  {
   "cell_type": "code",
   "execution_count": 112,
   "metadata": {},
   "outputs": [],
   "source": [
    "# unique_types = set()\n",
    "\n",
    "# for item in element_dict:\n",
    "#     unique_types.add(item['type'])\n",
    "\n",
    "# print(unique_types)"
   ]
  },
  {
   "cell_type": "code",
   "execution_count": 113,
   "metadata": {},
   "outputs": [],
   "source": [
    "# from unstructured.partition.pdf import partition_pdf\n",
    "\n",
    "# # Specify the path to your PDF file\n",
    "# filename = \"data/scanned_gpt4all.pdf\"\n",
    "\n",
    "# # Call the partition_pdf function\n",
    "# # Returns a List[Element] present in the pages of the parsed pdf document\n",
    "# elements = partition_pdf(filename)\n",
    "\n",
    "# # Now, elements is a list of all elements present in the pages of the parsed pdf document"
   ]
  },
  {
   "cell_type": "code",
   "execution_count": 114,
   "metadata": {},
   "outputs": [],
   "source": [
    "# elements"
   ]
  },
  {
   "cell_type": "code",
   "execution_count": 115,
   "metadata": {},
   "outputs": [],
   "source": [
    "# len(elements)"
   ]
  },
  {
   "cell_type": "code",
   "execution_count": 116,
   "metadata": {},
   "outputs": [],
   "source": [
    "# element_dict = [el.to_dict() for el in elements]\n",
    "# output = json.dumps(element_dict, indent=2)\n",
    "# print(output)"
   ]
  },
  {
   "cell_type": "markdown",
   "metadata": {},
   "source": [
    "### Okay, scanned pdf extraction works."
   ]
  },
  {
   "cell_type": "markdown",
   "metadata": {},
   "source": [
    "##### We don't see `Table`, table information is not extracted as we expected, lets use different strategy."
   ]
  },
  {
   "cell_type": "markdown",
   "metadata": {},
   "source": [
    "### Table extraction from PDF\n",
    "- Now let’s say that your PDF has tables and let’s say you want to preserve the structure of the tables. \n",
    "- You will have to specify the [strategy](https://unstructured-io.github.io/unstructured/best_practices/strategies.html) parameter as `hi_res`. This will use a combination of computer vision and Optical Character Recognition (OCR) to extract the tables and maintain the structure. \n",
    "It will return both the text and the html of the table. This is super useful for rendering the tables or passing to a LLM.\n",
    "\n",
    "> Note: For even better table extraction Unstructured offers an API that improves upon the existing open source models.\n",
    "\n",
    "> Depending upon machine, you might face different module / library issues, these links might help\n",
    "- https://stackoverflow.com/questions/59690698/modulenotfounderror-no-module-named-lzma-when-building-python-using-pyenv-on\n",
    "- https://unstructured-io.github.io/unstructured/installation/full_installation.html"
   ]
  },
  {
   "cell_type": "code",
   "execution_count": 117,
   "metadata": {},
   "outputs": [],
   "source": [
    "poppler_path = r\"C:/Users/Hemant.Singhsidar/Downloads/Release-24.08.0-0/poppler-24.08.0/Library/bin\""
   ]
  },
  {
   "cell_type": "code",
   "execution_count": 118,
   "metadata": {},
   "outputs": [],
   "source": [
    "from unstructured.partition.pdf import partition_pdf\n",
    "\n",
    "elements = partition_pdf(filename=filename,\n",
    "                         infer_table_structure=True,\n",
    "                         strategy='hi_res',\n",
    "           )"
   ]
  },
  {
   "cell_type": "code",
   "execution_count": 119,
   "metadata": {},
   "outputs": [
    {
     "data": {
      "text/plain": [
       "126"
      ]
     },
     "execution_count": 119,
     "metadata": {},
     "output_type": "execute_result"
    }
   ],
   "source": [
    "len(elements)"
   ]
  },
  {
   "cell_type": "code",
   "execution_count": 120,
   "metadata": {},
   "outputs": [
    {
     "name": "stdout",
     "output_type": "stream",
     "text": [
      "{'NarrativeText', 'Table', 'ListItem', 'UncategorizedText', 'Title'}\n"
     ]
    }
   ],
   "source": [
    "\n",
    "element_dict = [el.to_dict() for el in elements]\n",
    "output = json.dumps(element_dict, indent=2)\n",
    "# print(output)\n",
    "\n",
    "unique_types = set()\n",
    "\n",
    "for item in element_dict:\n",
    "    unique_types.add(item['type'])\n",
    "\n",
    "print(unique_types)"
   ]
  },
  {
   "cell_type": "code",
   "execution_count": 121,
   "metadata": {},
   "outputs": [
    {
     "name": "stdout",
     "output_type": "stream",
     "text": [
      "Sr.No Particulars Amount in Lacs 1 Land 3.00 2 Construction of premises and electricity 8.00\n",
      "<table><thead><tr><th>Sr.No |</th><th>Particulars</th><th>Amount in Lacs</th></tr></thead><tbody><tr><td>1</td><td>Land</td><td>3.00</td></tr><tr><td>2</td><td>Construction of premises and electricity</td><td>8.00</td></tr></tbody></table>\n"
     ]
    }
   ],
   "source": [
    "tables = [el for el in elements if el.category == \"Table\"]\n",
    "\n",
    "print(tables[0].text)\n",
    "print(tables[0].metadata.text_as_html)"
   ]
  },
  {
   "cell_type": "code",
   "execution_count": 122,
   "metadata": {},
   "outputs": [
    {
     "data": {
      "text/plain": [
       "[<unstructured.documents.elements.Table at 0x163ac9c3a90>,\n",
       " <unstructured.documents.elements.Table at 0x1633abf80d0>,\n",
       " <unstructured.documents.elements.Table at 0x163acd4bdc0>,\n",
       " <unstructured.documents.elements.Table at 0x16336718190>,\n",
       " <unstructured.documents.elements.Table at 0x16336d8c3d0>,\n",
       " <unstructured.documents.elements.Table at 0x16336dffa90>,\n",
       " <unstructured.documents.elements.Table at 0x163ac86c130>,\n",
       " <unstructured.documents.elements.Table at 0x163ac86ca90>,\n",
       " <unstructured.documents.elements.Table at 0x1633a2d77c0>,\n",
       " <unstructured.documents.elements.Table at 0x16367c71760>,\n",
       " <unstructured.documents.elements.Table at 0x16339134f70>,\n",
       " <unstructured.documents.elements.Table at 0x1633a1b11f0>,\n",
       " <unstructured.documents.elements.Table at 0x16336778400>,\n",
       " <unstructured.documents.elements.Table at 0x1633a145280>,\n",
       " <unstructured.documents.elements.Table at 0x1633a145250>]"
      ]
     },
     "execution_count": 122,
     "metadata": {},
     "output_type": "execute_result"
    }
   ],
   "source": [
    "tables"
   ]
  },
  {
   "cell_type": "code",
   "execution_count": 123,
   "metadata": {},
   "outputs": [
    {
     "data": {
      "text/plain": [
       "15"
      ]
     },
     "execution_count": 123,
     "metadata": {},
     "output_type": "execute_result"
    }
   ],
   "source": [
    "len(tables)"
   ]
  },
  {
   "cell_type": "code",
   "execution_count": 152,
   "metadata": {},
   "outputs": [
    {
     "data": {
      "text/plain": [
       "'Mortgage expenses : 10,000 Processing fees of the bank: 5,000 Consultant’s charges : 5,000'"
      ]
     },
     "execution_count": 152,
     "metadata": {},
     "output_type": "execute_result"
    }
   ],
   "source": [
    "tables[5].text"
   ]
  },
  {
   "cell_type": "code",
   "execution_count": 125,
   "metadata": {},
   "outputs": [
    {
     "data": {
      "text/plain": [
       "<unstructured.documents.elements.ElementMetadata at 0x163ac9c3a00>"
      ]
     },
     "execution_count": 125,
     "metadata": {},
     "output_type": "execute_result"
    }
   ],
   "source": [
    "tables[0].metadata"
   ]
  },
  {
   "cell_type": "markdown",
   "metadata": {},
   "source": [
    "### Now, comes the most interesting part ( utilizing the extracted data in most efficient way)"
   ]
  },
  {
   "cell_type": "markdown",
   "metadata": {},
   "source": [
    "- It's helpful to have an HTML representation of the table so that you can the information to an LLM while maintaining the table structure."
   ]
  },
  {
   "cell_type": "code",
   "execution_count": 153,
   "metadata": {},
   "outputs": [],
   "source": [
    "table_html = tables[5].metadata.text_as_html"
   ]
  },
  {
   "cell_type": "code",
   "execution_count": 154,
   "metadata": {},
   "outputs": [
    {
     "data": {
      "text/plain": [
       "'<table><tbody><tr><td>Mortgage</td><td>expenses</td><td>: 10,000</td></tr><tr><td colspan=\"3\">Processing fees of the bank: 5,000</td></tr><tr><td colspan=\"3\">Consultant’s charges : 5,000</td></tr><tr><td colspan=\"3\">Stamp Duty : 5,000</td></tr><tr><td>Miscellaneous</td><td>expenses :</td><td>5,000</td></tr><tr><td>Total</td><td></td><td>30,000</td></tr></tbody></table>'"
      ]
     },
     "execution_count": 154,
     "metadata": {},
     "output_type": "execute_result"
    }
   ],
   "source": [
    "table_html"
   ]
  },
  {
   "cell_type": "code",
   "execution_count": 128,
   "metadata": {},
   "outputs": [],
   "source": [
    "# # view what the HTML in the metadata field looks like\n",
    "\n",
    "# from io import StringIO \n",
    "# from lxml import etree\n",
    "\n",
    "# parser = etree.XMLParser(remove_blank_text=True)\n",
    "# file_obj = StringIO(table_html)\n",
    "# tree = etree.parse(file_obj, parser)\n",
    "# print(etree.tostring(tree, pretty_print=True).decode())"
   ]
  },
  {
   "cell_type": "code",
   "execution_count": 129,
   "metadata": {},
   "outputs": [],
   "source": [
    "# # let's display this table\n",
    "\n",
    "# from IPython.core.display import HTML\n",
    "# HTML(table_html)"
   ]
  },
  {
   "cell_type": "markdown",
   "metadata": {},
   "source": [
    "#### Now, lets plugin in LangChain to summarize these tables using `Llama3` via `Ollama`\n",
    "#### [Ollama Playlist](https://www.youtube.com/playlist?list=PLz-qytj7eIWX-bpcRtvkixvo9fuejVr8y)"
   ]
  },
  {
   "cell_type": "code",
   "execution_count": 130,
   "metadata": {},
   "outputs": [],
   "source": [
    "# %%capture\n",
    "# %pip install langchain-ollama langchain_core langchain_community"
   ]
  },
  {
   "cell_type": "code",
   "execution_count": 131,
   "metadata": {},
   "outputs": [],
   "source": [
    "# from langchain_ollama import ChatOllama\n",
    "# from langchain_core.documents import Document\n",
    "# from langchain.chains.summarize import load_summarize_chain"
   ]
  },
  {
   "cell_type": "code",
   "execution_count": 132,
   "metadata": {},
   "outputs": [],
   "source": [
    "# ChatOllama??"
   ]
  },
  {
   "cell_type": "markdown",
   "metadata": {},
   "source": [
    "First run the Ollama server  \n",
    "http://localhost:11434"
   ]
  },
  {
   "cell_type": "code",
   "execution_count": 133,
   "metadata": {},
   "outputs": [],
   "source": [
    "# llm = ChatOllama(model=\"llama3.1:8b\")\n",
    "# chain = load_summarize_chain(llm, chain_type=\"stuff\")\n",
    "# output = chain.invoke([Document(page_content=table_html)])"
   ]
  },
  {
   "cell_type": "code",
   "execution_count": 134,
   "metadata": {},
   "outputs": [],
   "source": [
    "# output"
   ]
  },
  {
   "cell_type": "code",
   "execution_count": 135,
   "metadata": {},
   "outputs": [],
   "source": [
    "# print(output['output_text'])"
   ]
  },
  {
   "cell_type": "markdown",
   "metadata": {},
   "source": [
    "#### Convert to pandas df"
   ]
  },
  {
   "cell_type": "code",
   "execution_count": 136,
   "metadata": {},
   "outputs": [],
   "source": [
    "# %pip install pandas"
   ]
  },
  {
   "cell_type": "code",
   "execution_count": 155,
   "metadata": {},
   "outputs": [],
   "source": [
    "import pandas as pd\n",
    "\n",
    "# Convert HTML table to pandas DataFrame\n",
    "dfs = pd.read_html(table_html)"
   ]
  },
  {
   "cell_type": "code",
   "execution_count": 156,
   "metadata": {},
   "outputs": [
    {
     "data": {
      "text/plain": [
       "[                                    0                                   1  \\\n",
       " 0                            Mortgage                            expenses   \n",
       " 1  Processing fees of the bank: 5,000  Processing fees of the bank: 5,000   \n",
       " 2        Consultant’s charges : 5,000        Consultant’s charges : 5,000   \n",
       " 3                  Stamp Duty : 5,000                  Stamp Duty : 5,000   \n",
       " 4                       Miscellaneous                          expenses :   \n",
       " 5                               Total                                 NaN   \n",
       " \n",
       "                                     2  \n",
       " 0                            : 10,000  \n",
       " 1  Processing fees of the bank: 5,000  \n",
       " 2        Consultant’s charges : 5,000  \n",
       " 3                  Stamp Duty : 5,000  \n",
       " 4                                5000  \n",
       " 5                               30000  ]"
      ]
     },
     "execution_count": 156,
     "metadata": {},
     "output_type": "execute_result"
    }
   ],
   "source": [
    "dfs"
   ]
  },
  {
   "cell_type": "code",
   "execution_count": 157,
   "metadata": {},
   "outputs": [
    {
     "name": "stdout",
     "output_type": "stream",
     "text": [
      "                                    0                                   1  \\\n",
      "0                            Mortgage                            expenses   \n",
      "1  Processing fees of the bank: 5,000  Processing fees of the bank: 5,000   \n",
      "2        Consultant’s charges : 5,000        Consultant’s charges : 5,000   \n",
      "3                  Stamp Duty : 5,000                  Stamp Duty : 5,000   \n",
      "4                       Miscellaneous                          expenses :   \n",
      "5                               Total                                 NaN   \n",
      "\n",
      "                                    2  \n",
      "0                            : 10,000  \n",
      "1  Processing fees of the bank: 5,000  \n",
      "2        Consultant’s charges : 5,000  \n",
      "3                  Stamp Duty : 5,000  \n",
      "4                                5000  \n",
      "5                               30000  \n"
     ]
    }
   ],
   "source": [
    "\n",
    "# Assuming there's only one table, get the DataFrame\n",
    "df = dfs[0]\n",
    "\n",
    "# Now you have the DataFrame\n",
    "print(df)\n"
   ]
  },
  {
   "cell_type": "code",
   "execution_count": 158,
   "metadata": {},
   "outputs": [
    {
     "data": {
      "text/plain": [
       "(6, 3)"
      ]
     },
     "execution_count": 158,
     "metadata": {},
     "output_type": "execute_result"
    }
   ],
   "source": [
    "df.shape"
   ]
  },
  {
   "cell_type": "code",
   "execution_count": 159,
   "metadata": {},
   "outputs": [
    {
     "data": {
      "text/html": [
       "<div>\n",
       "<style scoped>\n",
       "    .dataframe tbody tr th:only-of-type {\n",
       "        vertical-align: middle;\n",
       "    }\n",
       "\n",
       "    .dataframe tbody tr th {\n",
       "        vertical-align: top;\n",
       "    }\n",
       "\n",
       "    .dataframe thead th {\n",
       "        text-align: right;\n",
       "    }\n",
       "</style>\n",
       "<table border=\"1\" class=\"dataframe\">\n",
       "  <thead>\n",
       "    <tr style=\"text-align: right;\">\n",
       "      <th></th>\n",
       "      <th>0</th>\n",
       "      <th>1</th>\n",
       "      <th>2</th>\n",
       "    </tr>\n",
       "  </thead>\n",
       "  <tbody>\n",
       "    <tr>\n",
       "      <th>0</th>\n",
       "      <td>Mortgage</td>\n",
       "      <td>expenses</td>\n",
       "      <td>: 10,000</td>\n",
       "    </tr>\n",
       "    <tr>\n",
       "      <th>1</th>\n",
       "      <td>Processing fees of the bank: 5,000</td>\n",
       "      <td>Processing fees of the bank: 5,000</td>\n",
       "      <td>Processing fees of the bank: 5,000</td>\n",
       "    </tr>\n",
       "    <tr>\n",
       "      <th>2</th>\n",
       "      <td>Consultant’s charges : 5,000</td>\n",
       "      <td>Consultant’s charges : 5,000</td>\n",
       "      <td>Consultant’s charges : 5,000</td>\n",
       "    </tr>\n",
       "    <tr>\n",
       "      <th>3</th>\n",
       "      <td>Stamp Duty : 5,000</td>\n",
       "      <td>Stamp Duty : 5,000</td>\n",
       "      <td>Stamp Duty : 5,000</td>\n",
       "    </tr>\n",
       "    <tr>\n",
       "      <th>4</th>\n",
       "      <td>Miscellaneous</td>\n",
       "      <td>expenses :</td>\n",
       "      <td>5000</td>\n",
       "    </tr>\n",
       "  </tbody>\n",
       "</table>\n",
       "</div>"
      ],
      "text/plain": [
       "                                    0                                   1  \\\n",
       "0                            Mortgage                            expenses   \n",
       "1  Processing fees of the bank: 5,000  Processing fees of the bank: 5,000   \n",
       "2        Consultant’s charges : 5,000        Consultant’s charges : 5,000   \n",
       "3                  Stamp Duty : 5,000                  Stamp Duty : 5,000   \n",
       "4                       Miscellaneous                          expenses :   \n",
       "\n",
       "                                    2  \n",
       "0                            : 10,000  \n",
       "1  Processing fees of the bank: 5,000  \n",
       "2        Consultant’s charges : 5,000  \n",
       "3                  Stamp Duty : 5,000  \n",
       "4                                5000  "
      ]
     },
     "execution_count": 159,
     "metadata": {},
     "output_type": "execute_result"
    }
   ],
   "source": [
    "df.head()"
   ]
  }
 ],
 "metadata": {
  "kernelspec": {
   "display_name": "envT",
   "language": "python",
   "name": "python3"
  },
  "language_info": {
   "codemirror_mode": {
    "name": "ipython",
    "version": 3
   },
   "file_extension": ".py",
   "mimetype": "text/x-python",
   "name": "python",
   "nbconvert_exporter": "python",
   "pygments_lexer": "ipython3",
   "version": "3.9.13"
  }
 },
 "nbformat": 4,
 "nbformat_minor": 2
}
