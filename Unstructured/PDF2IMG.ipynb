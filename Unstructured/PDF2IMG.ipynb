{
 "cells": [
  {
   "cell_type": "code",
   "execution_count": null,
   "metadata": {},
   "outputs": [],
   "source": [
    "# %pip install pymupdf"
   ]
  },
  {
   "cell_type": "code",
   "execution_count": null,
   "metadata": {},
   "outputs": [],
   "source": [
    "pdf_path = 'PDFs/CaseStudies.pdf'"
   ]
  },
  {
   "cell_type": "code",
   "execution_count": null,
   "metadata": {},
   "outputs": [],
   "source": [
    "import fitz  \n",
    "import os \n",
    "\n",
    "pdf_folder = 'PDFs'\n",
    "output_base_folder = 'PDF Pages'\n",
    "\n",
    "os.makedirs(output_base_folder, exist_ok=True)\n",
    "\n",
    "pdf_files = [f for f in os.listdir(pdf_folder) if f.lower().endswith('.pdf')]\n",
    "\n",
    "# Process each PDF\n",
    "for pdf_file in pdf_files:\n",
    "    pdf_path = os.path.join(pdf_folder, pdf_file)\n",
    "    pdf_name = os.path.splitext(pdf_file)[0]\n",
    "    pdf_output_folder = os.path.join(output_base_folder, f\"{pdf_name}-Pages\")\n",
    "    os.makedirs(pdf_output_folder, exist_ok=True)\n",
    "\n",
    "    pdf_document = fitz.open(pdf_path)\n",
    "    page_count = pdf_document.page_count\n",
    "    print(f\"Processing '{pdf_file}' ({page_count} pages)...\")\n",
    "\n",
    "    for page_number in range(page_count):\n",
    "        page = pdf_document[page_number]\n",
    "        pix = page.get_pixmap(dpi=200, colorspace=fitz.csRGB)  # Render at 200 DPI in RGB\n",
    "        image_path = os.path.join(pdf_output_folder, f'page_{page_number + 1}.png')\n",
    "        pix.save(image_path)\n",
    "        print(f'Saved: {image_path}')\n",
    "\n",
    "    pdf_document.close()\n",
    "    print(f\"Finished processing '{pdf_file}'! Pages saved in '{pdf_output_folder}'\\n\")\n",
    "\n",
    "print(\"\\n All PDFs processed successfully! Extracted pages are stored in 'OUTPUTS' folder.\")"
   ]
  }
 ],
 "metadata": {
  "kernelspec": {
   "display_name": "comb_env",
   "language": "python",
   "name": "python3"
  },
  "language_info": {
   "codemirror_mode": {
    "name": "ipython",
    "version": 3
   },
   "file_extension": ".py",
   "mimetype": "text/x-python",
   "name": "python",
   "nbconvert_exporter": "python",
   "pygments_lexer": "ipython3",
   "version": "3.10.10"
  }
 },
 "nbformat": 4,
 "nbformat_minor": 2
}
